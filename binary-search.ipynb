{
 "cells": [
  {
   "attachments": {},
   "cell_type": "markdown",
   "metadata": {},
   "source": [
    "BINARY SEARCH\n",
    "Time Complexity: \n",
    "Worst Case= O(log(n))\n",
    "Best Case= O(1)\n"
   ]
  },
  {
   "cell_type": "code",
   "execution_count": 24,
   "metadata": {},
   "outputs": [
    {
     "name": "stdout",
     "output_type": "stream",
     "text": [
      "4\n"
     ]
    },
    {
     "data": {
      "text/plain": [
       "'5 found at index 4'"
      ]
     },
     "execution_count": 24,
     "metadata": {},
     "output_type": "execute_result"
    }
   ],
   "source": [
    "def binarySearch(array,item):\n",
    "    first=0\n",
    "    last=len(array)-1\n",
    "\n",
    "    while (first<=last):\n",
    "        mid=(first+last)//2\n",
    "        if array[mid]==item:\n",
    "            return f\"{item} found at index {mid}\"\n",
    "        elif array[mid]<item:\n",
    "            first=mid+1\n",
    "        elif array[mid]>item:\n",
    "            last=mid-1\n",
    "    return f\"{item} not found\"\n",
    "\n",
    "binarySearch([1,2,3,4,5,6,7,8,9],5)"
   ]
  },
  {
   "attachments": {},
   "cell_type": "markdown",
   "metadata": {},
   "source": [
    "USING RECURSION"
   ]
  },
  {
   "cell_type": "code",
   "execution_count": 9,
   "metadata": {},
   "outputs": [
    {
     "data": {
      "text/plain": [
       "'7 found at index 6'"
      ]
     },
     "execution_count": 9,
     "metadata": {},
     "output_type": "execute_result"
    }
   ],
   "source": [
    "def binarySearchUsingRecursion(array,first,last,item):\n",
    "    \n",
    "    while(first<=last):\n",
    "        mid=(first+last)//2\n",
    "        if array[mid]==item:\n",
    "            return f\"{item} found at index {mid}\"\n",
    "        elif array[mid]<item:\n",
    "            return binarySearchUsingRecursion(array,mid+1,last,item)\n",
    "        elif array[mid>item]:\n",
    "            return binarySearchUsingRecursion(array,first,mid-1,item)\n",
    "    return f\"{item} not found\"\n",
    "    \n",
    "binarySearchUsingRecursion([1,2,3,4,5,6,7,8,9],0,8,7)"
   ]
  },
  {
   "cell_type": "code",
   "execution_count": null,
   "metadata": {},
   "outputs": [],
   "source": []
  }
 ],
 "metadata": {
  "language_info": {
   "name": "python"
  },
  "orig_nbformat": 4
 },
 "nbformat": 4,
 "nbformat_minor": 2
}
